{
 "cells": [
  {
   "cell_type": "code",
   "execution_count": 22,
   "metadata": {
    "collapsed": false
   },
   "outputs": [],
   "source": [
    "import autoprotocol\n",
    "import transcriptic\n",
    "\n",
    "p = autoprotocol.Protocol()\n",
    "\n",
    "# grow and purify \n",
    "sample_plate = p.ref( 'sample_plate', cont_type='96-deep', discard=True )\n",
    "p.dispense_full_plate( sample_plate, 'tb-broth-50ug-ml-kan', '1:milliliter' )\n",
    "\n"
   ]
  }
 ],
 "metadata": {
  "kernelspec": {
   "display_name": "Python 2",
   "language": "python",
   "name": "python2"
  },
  "language_info": {
   "codemirror_mode": {
    "name": "ipython",
    "version": 2
   },
   "file_extension": ".py",
   "mimetype": "text/x-python",
   "name": "python",
   "nbconvert_exporter": "python",
   "pygments_lexer": "ipython2",
   "version": "2.7.10"
  }
 },
 "nbformat": 4,
 "nbformat_minor": 0
}
